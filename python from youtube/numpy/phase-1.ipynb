{
  "cells": [
    {
      "cell_type": "markdown",
      "metadata": {
        "id": "WeWSSlFbX4Dl"
      },
      "source": [
        "## learn about numpy with chai aur code"
      ]
    },
    {
      "cell_type": "code",
      "execution_count": 1,
      "metadata": {
        "id": "JKzBth7MX4Dn"
      },
      "outputs": [],
      "source": [
        "import numpy as np"
      ]
    },
    {
      "cell_type": "markdown",
      "metadata": {
        "id": "ZK0ePXzMX4Do"
      },
      "source": [
        "### creating array from list"
      ]
    },
    {
      "cell_type": "code",
      "execution_count": 2,
      "metadata": {
        "colab": {
          "base_uri": "https://localhost:8080/"
        },
        "id": "HFkNBFCyX4Dp",
        "outputId": "25cb980b-2058-43ff-e1bd-95c8dc4807fd"
      },
      "outputs": [
        {
          "output_type": "stream",
          "name": "stdout",
          "text": [
            "[1 2 3]\n",
            "[[1 2 3]\n",
            " [4 5 6]]\n"
          ]
        }
      ],
      "source": [
        "arr_1d = np.array([1,2,3])\n",
        "print(arr_1d)\n",
        "\n",
        "arr_2d = np.array([[1,2,3],[4,5,6]])\n",
        "print(arr_2d)\n"
      ]
    },
    {
      "cell_type": "markdown",
      "metadata": {
        "id": "pURkM6ywY9GS"
      },
      "source": [
        "### List vs numpy"
      ]
    },
    {
      "cell_type": "code",
      "execution_count": 3,
      "metadata": {
        "colab": {
          "base_uri": "https://localhost:8080/"
        },
        "id": "JWBmnxv8ZCk6",
        "outputId": "83c73b97-9212-4284-fd8b-72a3f55e03d9"
      },
      "outputs": [
        {
          "output_type": "stream",
          "name": "stdout",
          "text": [
            "python list multiplication [1, 2, 3, 1, 2, 3]\n",
            "numpy array multiplication [2 4 6]\n",
            "\n",
            " list opeartion time:  1.8637397289276123\n",
            "\n",
            " numpy opeartion time:  0.100799560546875\n"
          ]
        }
      ],
      "source": [
        "py_list = [1,2,3]\n",
        "print(\"python list multiplication\",py_list * 2)\n",
        "\n",
        "\n",
        "np_array = np.array([1,2,3])              ## element wise multiplication\n",
        "print(\"numpy array multiplication\",np_array * 2)\n",
        "\n",
        "\n",
        "\n",
        "import time\n",
        "start = time.time()\n",
        "py_list = [i*2 for i in range(10000000)]\n",
        "print(\"\\n list opeartion time: \",time.time() - start)\n",
        "\n",
        "\n",
        "start = time.time()\n",
        "### np_array = np.array([i for i in range(10000000)])\n",
        "np_array = np.arange(10000000) * 2\n",
        "print(\"\\n numpy opeartion time: \",time.time() - start)"
      ]
    },
    {
      "cell_type": "markdown",
      "metadata": {
        "id": "c-30fhvPVCmz"
      },
      "source": [
        "### Creating array from scratch"
      ]
    },
    {
      "cell_type": "code",
      "execution_count": 4,
      "metadata": {
        "colab": {
          "base_uri": "https://localhost:8080/"
        },
        "id": "ZxFN90B-VI26",
        "outputId": "2d356c22-5acd-4a83-c17c-03ca7f009bab"
      },
      "outputs": [
        {
          "output_type": "stream",
          "name": "stdout",
          "text": [
            "zeros array: \n",
            " [[0. 0. 0. 0.]\n",
            " [0. 0. 0. 0.]\n",
            " [0. 0. 0. 0.]]\n",
            "ones array: \n",
            " [[1. 1. 1.]\n",
            " [1. 1. 1.]]\n",
            "full array: \n",
            " [[5 5 5 5]\n",
            " [5 5 5 5]\n",
            " [5 5 5 5]]\n",
            "random array: \n",
            " [[0.80622731 0.81771629 0.52469724]\n",
            " [0.64025596 0.68203785 0.34081628]\n",
            " [0.31774076 0.77968474 0.28074175]]\n",
            "sequence array: \n",
            " [10 12 14 16 18]\n",
            "linspace array: \n",
            " [10.  12.5 15.  17.5 20. ]\n",
            "empty array: \n",
            " [[6.64121187e-310 1.76181754e-316 1.01855798e-312 9.54898106e-313]\n",
            " [1.03977794e-312 1.01855798e-312 1.23075756e-312 1.08221785e-312]\n",
            " [1.01855798e-312 9.76118064e-313 1.08221785e-312 1.06099790e-312]]\n"
          ]
        }
      ],
      "source": [
        "zeros = np.zeros((3,4))\n",
        "print(\"zeros array: \\n\",zeros)\n",
        "\n",
        "\n",
        "ones = np.ones((2,3))\n",
        "print(\"ones array: \\n\",ones)\n",
        "\n",
        "full= np.full((3,4),5)\n",
        "print(\"full array: \\n\",full)\n",
        "\n",
        "random = np.random.random((3,3))\n",
        "print(\"random array: \\n\",random)\n",
        "\n",
        "sequence = np.arange(10,20,2)\n",
        "print(\"sequence array: \\n\",sequence)\n",
        "\n",
        "linspace = np.linspace(10,20,5)\n",
        "print(\"linspace array: \\n\",linspace)\n",
        "\n",
        "empty = np.empty((3,4))\n",
        "print(\"empty array: \\n\",empty)"
      ]
    },
    {
      "cell_type": "markdown",
      "metadata": {
        "id": "3agcSqkcXbaN"
      },
      "source": [
        "### vector, Matrix and Tensor"
      ]
    },
    {
      "cell_type": "code",
      "execution_count": 5,
      "metadata": {
        "colab": {
          "base_uri": "https://localhost:8080/"
        },
        "id": "9KWMLOeeXi1-",
        "outputId": "fd11d9ce-533f-4211-d3d3-133e98b11c72"
      },
      "outputs": [
        {
          "output_type": "stream",
          "name": "stdout",
          "text": [
            "vector: \n",
            " [1 2 3]\n",
            "matrix: \n",
            " [[1 2 3]\n",
            " [4 5 6]]\n",
            "tensor: \n",
            " [[[ 1  2]\n",
            "  [ 4  5]]\n",
            "\n",
            " [[ 7  8]\n",
            "  [10 11]]]\n"
          ]
        }
      ],
      "source": [
        "vector = np.array([1,2,3])\n",
        "print(\"vector: \\n\",vector)\n",
        "\n",
        "matrix = np.array([[1,2,3],[4,5,6]])\n",
        "print(\"matrix: \\n\",matrix)\n",
        "\n",
        "tensor = np.array([[[1,2],[4,5]],[[7,8],[10,11]]])\n",
        "print(\"tensor: \\n\",tensor)"
      ]
    },
    {
      "cell_type": "markdown",
      "metadata": {
        "id": "gaNG_WpqYTkd"
      },
      "source": [
        "### Array Properties"
      ]
    },
    {
      "cell_type": "code",
      "execution_count": 6,
      "metadata": {
        "colab": {
          "base_uri": "https://localhost:8080/"
        },
        "id": "dsZXbaJnYXNu",
        "outputId": "84e7a1b7-b574-4f75-aaf4-1dc5a37213e4"
      },
      "outputs": [
        {
          "output_type": "stream",
          "name": "stdout",
          "text": [
            "shape: \n",
            " (2, 3)\n",
            "dimension: \n",
            " 2\n",
            "size: \n",
            " 6\n",
            "data type: \n",
            " int64\n"
          ]
        }
      ],
      "source": [
        "arr = np.array([[1,2,3],\n",
        "                [4,5,6]])\n",
        "print(\"shape: \\n\",arr.shape)\n",
        "print(\"dimension: \\n\",arr.ndim)\n",
        "print(\"size: \\n\",arr.size)\n",
        "print(\"data type: \\n\",arr.dtype)"
      ]
    },
    {
      "cell_type": "markdown",
      "metadata": {
        "id": "E8-6dxvarRAE"
      },
      "source": [
        "### Array Reshaping"
      ]
    },
    {
      "cell_type": "code",
      "execution_count": 13,
      "metadata": {
        "id": "xv4MdZFKrVB0",
        "colab": {
          "base_uri": "https://localhost:8080/"
        },
        "outputId": "076e6f1b-5cbd-408d-e333-a16c19dc8cf9"
      },
      "outputs": [
        {
          "output_type": "stream",
          "name": "stdout",
          "text": [
            "original array:  [ 0  1  2  3  4  5  6  7  8  9 10 11]\n",
            "\n",
            " reshaped array: \n",
            " [[ 0  1  2  3]\n",
            " [ 4  5  6  7]\n",
            " [ 8  9 10 11]]\n",
            "\n",
            " flattened array:  [ 0  1  2  3  4  5  6  7  8  9 10 11]\n",
            "\n",
            " raveled array:  [ 0  1  2  3  4  5  6  7  8  9 10 11]\n",
            "\n",
            " transposed array: \n",
            " [[ 0  4  8]\n",
            " [ 1  5  9]\n",
            " [ 2  6 10]\n",
            " [ 3  7 11]]\n"
          ]
        }
      ],
      "source": [
        "arr=np.arange(12)\n",
        "print(\"original array: \",arr)\n",
        "\n",
        "reshaped = arr.reshape(3,4)\n",
        "print(\"\\n reshaped array: \\n\",reshaped)\n",
        "\n",
        "flattened = reshaped.flatten()\n",
        "print(\"\\n flattened array: \",flattened)\n",
        "\n",
        "# ravel(returns view,instead of copy)\n",
        "raveled = reshaped.ravel()\n",
        "print(\"\\n raveled array: \",raveled)\n",
        "\n",
        "\n",
        "# transpose\n",
        "transposed = reshaped.T\n",
        "print(\"\\n transposed array: \\n\",transposed)"
      ]
    }
  ],
  "metadata": {
    "colab": {
      "provenance": []
    },
    "kernelspec": {
      "display_name": "Python 3",
      "language": "python",
      "name": "python3"
    },
    "language_info": {
      "codemirror_mode": {
        "name": "ipython",
        "version": 3
      },
      "file_extension": ".py",
      "mimetype": "text/x-python",
      "name": "python",
      "nbconvert_exporter": "python",
      "pygments_lexer": "ipython3",
      "version": "3.12.6"
    }
  },
  "nbformat": 4,
  "nbformat_minor": 0
}