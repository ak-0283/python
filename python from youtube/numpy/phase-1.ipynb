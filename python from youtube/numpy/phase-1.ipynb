{
  "cells": [
    {
      "cell_type": "markdown",
      "metadata": {
        "id": "WeWSSlFbX4Dl"
      },
      "source": [
        "## learn about numpy with chai aur code"
      ]
    },
    {
      "cell_type": "code",
      "execution_count": 2,
      "metadata": {
        "id": "JKzBth7MX4Dn"
      },
      "outputs": [],
      "source": [
        "import numpy as np"
      ]
    },
    {
      "cell_type": "markdown",
      "metadata": {
        "id": "ZK0ePXzMX4Do"
      },
      "source": [
        "### creating array from list"
      ]
    },
    {
      "cell_type": "code",
      "execution_count": null,
      "metadata": {
        "colab": {
          "base_uri": "https://localhost:8080/"
        },
        "id": "HFkNBFCyX4Dp",
        "outputId": "728ecb1a-bde1-4e0a-9c62-837dd2f2e0b0"
      },
      "outputs": [
        {
          "name": "stdout",
          "output_type": "stream",
          "text": [
            "[1 2 3]\n",
            "[[1 2 3]\n",
            " [4 5 6]]\n"
          ]
        }
      ],
      "source": [
        "arr_1d = np.array([1,2,3])\n",
        "print(arr_1d)\n",
        "\n",
        "arr_2d = np.array([[1,2,3],[4,5,6]])\n",
        "print(arr_2d)\n"
      ]
    },
    {
      "cell_type": "markdown",
      "metadata": {
        "id": "pURkM6ywY9GS"
      },
      "source": [
        "### List vs numpy"
      ]
    },
    {
      "cell_type": "code",
      "execution_count": 4,
      "metadata": {
        "colab": {
          "base_uri": "https://localhost:8080/"
        },
        "id": "JWBmnxv8ZCk6",
        "outputId": "cb5e51e0-8c2c-40a4-c035-548382e2eed0"
      },
      "outputs": [
        {
          "name": "stdout",
          "output_type": "stream",
          "text": [
            "python list multiplication [1, 2, 3, 1, 2, 3]\n",
            "numpy array multiplication [2 4 6]\n",
            "\n",
            " list opeartion time:  1.2096245288848877\n",
            "\n",
            " numpy opeartion time:  0.08060002326965332\n"
          ]
        }
      ],
      "source": [
        "py_list = [1,2,3]\n",
        "print(\"python list multiplication\",py_list * 2)\n",
        "\n",
        "\n",
        "np_array = np.array([1,2,3])              ## element wise multiplication\n",
        "print(\"numpy array multiplication\",np_array * 2)\n",
        "\n",
        "\n",
        "\n",
        "import time\n",
        "start = time.time()\n",
        "py_list = [i*2 for i in range(10000000)]\n",
        "print(\"\\n list opeartion time: \",time.time() - start)\n",
        "\n",
        "\n",
        "start = time.time()\n",
        "### np_array = np.array([i for i in range(10000000)])\n",
        "np_array = np.arange(10000000) * 2\n",
        "print(\"\\n numpy opeartion time: \",time.time() - start)"
      ]
    },
    {
      "cell_type": "markdown",
      "metadata": {
        "id": "c-30fhvPVCmz"
      },
      "source": [
        "### Creating array from scratch"
      ]
    },
    {
      "cell_type": "code",
      "execution_count": 5,
      "metadata": {
        "colab": {
          "base_uri": "https://localhost:8080/"
        },
        "id": "ZxFN90B-VI26",
        "outputId": "aa2e5a2d-7443-4931-9947-fe13532e7179"
      },
      "outputs": [
        {
          "name": "stdout",
          "output_type": "stream",
          "text": [
            "zeros array: \n",
            " [[0. 0. 0. 0.]\n",
            " [0. 0. 0. 0.]\n",
            " [0. 0. 0. 0.]]\n",
            "ones array: \n",
            " [[1. 1. 1.]\n",
            " [1. 1. 1.]]\n",
            "full array: \n",
            " [[5 5 5 5]\n",
            " [5 5 5 5]\n",
            " [5 5 5 5]]\n",
            "random array: \n",
            " [[0.1690416  0.99276219 0.22750698]\n",
            " [0.99641079 0.67039221 0.364928  ]\n",
            " [0.59410149 0.54395861 0.75238467]]\n",
            "sequence array: \n",
            " [10 12 14 16 18]\n",
            "linspace array: \n",
            " [10.  12.5 15.  17.5 20. ]\n",
            "empty array: \n",
            " [[1.17931432e-311 3.16202013e-322 0.00000000e+000 0.00000000e+000]\n",
            " [8.01097888e-307 3.83779438e+175 6.69902465e+170 6.22782864e-038]\n",
            " [6.58045002e-038 5.00108666e+174 2.54658961e-052 4.11645143e+179]]\n"
          ]
        }
      ],
      "source": [
        "zeros = np.zeros((3,4))\n",
        "print(\"zeros array: \\n\",zeros)\n",
        "\n",
        "\n",
        "ones = np.ones((2,3))\n",
        "print(\"ones array: \\n\",ones)\n",
        "\n",
        "full= np.full((3,4),5)\n",
        "print(\"full array: \\n\",full)\n",
        "\n",
        "random = np.random.random((3,3))\n",
        "print(\"random array: \\n\",random)\n",
        "\n",
        "sequence = np.arange(10,20,2)\n",
        "print(\"sequence array: \\n\",sequence)\n",
        "\n",
        "linspace = np.linspace(10,20,5)\n",
        "print(\"linspace array: \\n\",linspace)\n",
        "\n",
        "empty = np.empty((3,4))\n",
        "print(\"empty array: \\n\",empty)"
      ]
    },
    {
      "cell_type": "markdown",
      "metadata": {
        "id": "3agcSqkcXbaN"
      },
      "source": [
        "### vector, Matrix and Tensor"
      ]
    },
    {
      "cell_type": "code",
      "execution_count": 6,
      "metadata": {
        "colab": {
          "base_uri": "https://localhost:8080/"
        },
        "id": "9KWMLOeeXi1-",
        "outputId": "325f06be-d065-4ae6-ada3-b437f0a0fd06"
      },
      "outputs": [
        {
          "name": "stdout",
          "output_type": "stream",
          "text": [
            "vector: \n",
            " [1 2 3]\n",
            "matrix: \n",
            " [[1 2 3]\n",
            " [4 5 6]]\n",
            "tensor: \n",
            " [[[ 1  2]\n",
            "  [ 4  5]]\n",
            "\n",
            " [[ 7  8]\n",
            "  [10 11]]]\n"
          ]
        }
      ],
      "source": [
        "vector = np.array([1,2,3])\n",
        "print(\"vector: \\n\",vector)\n",
        "\n",
        "matrix = np.array([[1,2,3],[4,5,6]])\n",
        "print(\"matrix: \\n\",matrix)\n",
        "\n",
        "tensor = np.array([[[1,2],[4,5]],[[7,8],[10,11]]])\n",
        "print(\"tensor: \\n\",tensor)"
      ]
    },
    {
      "cell_type": "markdown",
      "metadata": {
        "id": "gaNG_WpqYTkd"
      },
      "source": [
        "### Array Properties"
      ]
    },
    {
      "cell_type": "code",
      "execution_count": 7,
      "metadata": {
        "colab": {
          "base_uri": "https://localhost:8080/"
        },
        "id": "dsZXbaJnYXNu",
        "outputId": "f05db89b-7fd9-46d3-d32a-6cc6eaff221b"
      },
      "outputs": [
        {
          "name": "stdout",
          "output_type": "stream",
          "text": [
            "shape: \n",
            " (2, 3)\n",
            "dimension: \n",
            " 2\n",
            "size: \n",
            " 6\n",
            "data type: \n",
            " int64\n"
          ]
        }
      ],
      "source": [
        "arr = np.array([[1,2,3],\n",
        "                [4,5,6]])\n",
        "print(\"shape: \\n\",arr.shape)\n",
        "print(\"dimension: \\n\",arr.ndim)\n",
        "print(\"size: \\n\",arr.size)\n",
        "print(\"data type: \\n\",arr.dtype)"
      ]
    },
    {
      "cell_type": "markdown",
      "metadata": {
        "id": "E8-6dxvarRAE"
      },
      "source": [
        "### Array Reshaping"
      ]
    },
    {
      "cell_type": "code",
      "execution_count": null,
      "metadata": {
        "id": "xv4MdZFKrVB0"
      },
      "outputs": [],
      "source": []
    }
  ],
  "metadata": {
    "colab": {
      "provenance": []
    },
    "kernelspec": {
      "display_name": "Python 3",
      "language": "python",
      "name": "python3"
    },
    "language_info": {
      "codemirror_mode": {
        "name": "ipython",
        "version": 3
      },
      "file_extension": ".py",
      "mimetype": "text/x-python",
      "name": "python",
      "nbconvert_exporter": "python",
      "pygments_lexer": "ipython3",
      "version": "3.12.6"
    }
  },
  "nbformat": 4,
  "nbformat_minor": 0
}
