{
  "cells": [
    {
      "cell_type": "markdown",
      "metadata": {
        "id": "WeWSSlFbX4Dl"
      },
      "source": [
        "## learn about numpy with chai aur code"
      ]
    },
    {
      "cell_type": "code",
      "execution_count": 2,
      "metadata": {
        "id": "JKzBth7MX4Dn"
      },
      "outputs": [],
      "source": [
        "import numpy as np"
      ]
    },
    {
      "cell_type": "markdown",
      "metadata": {
        "id": "ZK0ePXzMX4Do"
      },
      "source": [
        "**creating array from list**"
      ]
    },
    {
      "cell_type": "code",
      "execution_count": 3,
      "metadata": {
        "colab": {
          "base_uri": "https://localhost:8080/"
        },
        "id": "HFkNBFCyX4Dp",
        "outputId": "8f06bf3e-7829-451d-8046-97464195bb67"
      },
      "outputs": [
        {
          "output_type": "stream",
          "name": "stdout",
          "text": [
            "[1 2 3]\n",
            "[[1 2 3]\n",
            " [4 5 6]]\n"
          ]
        }
      ],
      "source": [
        "arr_1d = np.array([1,2,3])\n",
        "print(arr_1d)\n",
        "\n",
        "arr_2d = np.array([[1,2,3],[4,5,6]])\n",
        "print(arr_2d)\n"
      ]
    },
    {
      "cell_type": "markdown",
      "source": [
        "**List vs numpy**"
      ],
      "metadata": {
        "id": "pURkM6ywY9GS"
      }
    },
    {
      "cell_type": "code",
      "source": [
        "py_list = [1,2,3]\n",
        "print(\"python list multiplication\",py_list * 2)\n",
        "\n",
        "\n",
        "np_array = np.array([1,2,3])              ## element wise multiplication\n",
        "print(\"numpy array multiplication\",np_array * 2)\n",
        "\n",
        "\n",
        "\n",
        "import time\n",
        "start = time.time()\n",
        "py_list = [i*2 for i in range(10000000)]\n",
        "print(\"\\n list opeartion time: \",time.time() - start)\n",
        "\n",
        "\n",
        "start = time.time()\n",
        "### np_array = np.array([i for i in range(10000000)])\n",
        "np_array = np.arange(10000000) * 2\n",
        "print(\"\\n numpy opeartion time: \",time.time() - start)"
      ],
      "metadata": {
        "colab": {
          "base_uri": "https://localhost:8080/"
        },
        "id": "JWBmnxv8ZCk6",
        "outputId": "20859bea-8ab4-4d53-9c23-94555ba42307"
      },
      "execution_count": 7,
      "outputs": [
        {
          "output_type": "stream",
          "name": "stdout",
          "text": [
            "python list multiplication [1, 2, 3, 1, 2, 3]\n",
            "numpy array multiplication [2 4 6]\n",
            "\n",
            " list opeartion time:  0.6463978290557861\n",
            "\n",
            " numpy opeartion time:  0.031223297119140625\n"
          ]
        }
      ]
    }
  ],
  "metadata": {
    "kernelspec": {
      "display_name": "Python 3",
      "language": "python",
      "name": "python3"
    },
    "language_info": {
      "codemirror_mode": {
        "name": "ipython",
        "version": 3
      },
      "file_extension": ".py",
      "mimetype": "text/x-python",
      "name": "python",
      "nbconvert_exporter": "python",
      "pygments_lexer": "ipython3",
      "version": "3.12.6"
    },
    "colab": {
      "provenance": []
    }
  },
  "nbformat": 4,
  "nbformat_minor": 0
}