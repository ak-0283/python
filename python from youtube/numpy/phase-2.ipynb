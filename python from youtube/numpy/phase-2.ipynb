{
  "cells": [
    {
      "cell_type": "markdown",
      "metadata": {
        "id": "iww556V5DQIH"
      },
      "source": [
        "### Numpy array operations"
      ]
    },
    {
      "cell_type": "code",
      "execution_count": 2,
      "metadata": {
        "id": "E8UKOnfmDQII"
      },
      "outputs": [],
      "source": [
        "import numpy as np"
      ]
    },
    {
      "cell_type": "code",
      "source": [
        "arr=np.array([1,2,3,4,5,6,7,8,9,10])\n",
        "\n",
        "print(\"basic slicing: \",arr[2:7])\n",
        "print(\"with step: \",arr[1:8:2])\n",
        "print(\"negative slicing: \",arr[-3])"
      ],
      "metadata": {
        "colab": {
          "base_uri": "https://localhost:8080/"
        },
        "id": "B3je5oTjHJcI",
        "outputId": "ab5f2156-923f-4a51-d410-7c11c62fa7fb"
      },
      "execution_count": 3,
      "outputs": [
        {
          "output_type": "stream",
          "name": "stdout",
          "text": [
            "basic slicing:  [3 4 5 6 7]\n",
            "with step:  [2 4 6 8]\n",
            "negative slicing:  8\n"
          ]
        }
      ]
    },
    {
      "cell_type": "code",
      "source": [
        "arr_2d = np.array([[1,2,3],\n",
        "                   [4,5,6],\n",
        "                   [7,8,9]])\n",
        "print(\"specific element\",arr_2d[1,2])\n",
        "print(\"entire row\",arr_2d[2])\n",
        "print(\"entire column\",arr_2d[:,2])"
      ],
      "metadata": {
        "colab": {
          "base_uri": "https://localhost:8080/"
        },
        "id": "t5Kt8amQIc6b",
        "outputId": "0a9988ff-e5a6-4b00-9554-e025eeb5fe47"
      },
      "execution_count": 4,
      "outputs": [
        {
          "output_type": "stream",
          "name": "stdout",
          "text": [
            "specific element 6\n",
            "entire row [7 8 9]\n",
            "entire column [3 6 9]\n"
          ]
        }
      ]
    },
    {
      "cell_type": "markdown",
      "source": [
        "### Sorting"
      ],
      "metadata": {
        "id": "T5AttU0RM5g5"
      }
    },
    {
      "cell_type": "code",
      "source": [
        "unsorted = np.array([3,2,5,7,1,9])\n",
        "print(\"sorted array: \",np.sort(unsorted))\n",
        "\n",
        "arr_2d_unsorted = np.array([[2,1],[3,1],[4,2]])\n",
        "print(\"sorted 2d array of column: \",np.sort(arr_2d_unsorted,axis=0))\n",
        "print(\"sorted 2d array of row: \",np.sort(arr_2d_unsorted,axis=1))"
      ],
      "metadata": {
        "colab": {
          "base_uri": "https://localhost:8080/"
        },
        "id": "umA_RSGRM8XX",
        "outputId": "ee6dc5af-b37d-462a-dde0-f42283bc7377"
      },
      "execution_count": 5,
      "outputs": [
        {
          "output_type": "stream",
          "name": "stdout",
          "text": [
            "sorted array:  [1 2 3 5 7 9]\n",
            "sorted 2d array of column:  [[2 1]\n",
            " [3 1]\n",
            " [4 2]]\n",
            "sorted 2d array of row:  [[1 2]\n",
            " [1 3]\n",
            " [2 4]]\n"
          ]
        }
      ]
    },
    {
      "cell_type": "markdown",
      "source": [
        "### Filter"
      ],
      "metadata": {
        "id": "esR3fmkSLSXU"
      }
    },
    {
      "cell_type": "code",
      "source": [
        "numbers =  np.array([1,2,3,4,5,6,7,8,9,10])\n",
        "even_number = numbers [numbers % 2 == 0]\n",
        "print(\"even numbers: \",even_number)"
      ],
      "metadata": {
        "colab": {
          "base_uri": "https://localhost:8080/"
        },
        "id": "zPvXB8H6Ln8Y",
        "outputId": "d33c909b-b079-4a9a-ff56-b9795214a182"
      },
      "execution_count": 6,
      "outputs": [
        {
          "output_type": "stream",
          "name": "stdout",
          "text": [
            "even numbers:  [ 2  4  6  8 10]\n"
          ]
        }
      ]
    },
    {
      "cell_type": "markdown",
      "source": [
        "### Filter With Mask"
      ],
      "metadata": {
        "id": "LafUzQSWM0Eq"
      }
    },
    {
      "cell_type": "code",
      "source": [
        "mask = numbers > 5\n",
        "print(\"numbers greater than 5\",numbers[mask])"
      ],
      "metadata": {
        "colab": {
          "base_uri": "https://localhost:8080/"
        },
        "id": "-B3pM9yxM4AC",
        "outputId": "b4f8b6bb-7e48-40ec-9144-dac237852e76"
      },
      "execution_count": 7,
      "outputs": [
        {
          "output_type": "stream",
          "name": "stdout",
          "text": [
            "numbers greater than 5 [ 6  7  8  9 10]\n"
          ]
        }
      ]
    },
    {
      "cell_type": "markdown",
      "source": [
        "### Fancy Indexing vs np.where()"
      ],
      "metadata": {
        "id": "bhijzL3JNU1-"
      }
    },
    {
      "cell_type": "code",
      "source": [
        "indices = [0,2,4]\n",
        "print(numbers[indices])\n",
        "\n",
        "\n",
        "where_result = np.where(numbers > 5)\n",
        "print(where_result)\n",
        "print(\"NP where\",numbers[where_result])"
      ],
      "metadata": {
        "colab": {
          "base_uri": "https://localhost:8080/"
        },
        "id": "HIbN5ALYNa8X",
        "outputId": "26d3ca10-f60b-4cf1-da0f-1ead1e906e52"
      },
      "execution_count": 8,
      "outputs": [
        {
          "output_type": "stream",
          "name": "stdout",
          "text": [
            "[1 3 5]\n",
            "(array([5, 6, 7, 8, 9]),)\n",
            "NP where [ 6  7  8  9 10]\n"
          ]
        }
      ]
    },
    {
      "cell_type": "code",
      "source": [
        "condition_array = np.where(numbers > 5, numbers * 4, numbers)\n",
        "print(condition_array)"
      ],
      "metadata": {
        "colab": {
          "base_uri": "https://localhost:8080/"
        },
        "id": "WJfLVVY6PxWk",
        "outputId": "3c857c6e-4842-4cb2-df29-a3e961fd8142"
      },
      "execution_count": 9,
      "outputs": [
        {
          "output_type": "stream",
          "name": "stdout",
          "text": [
            "[ 1  2  3  4  5 24 28 32 36 40]\n"
          ]
        }
      ]
    },
    {
      "cell_type": "markdown",
      "source": [
        "### Adding and Removing data"
      ],
      "metadata": {
        "id": "WCfE3iMRXFRd"
      }
    },
    {
      "cell_type": "code",
      "source": [
        "arr1= np.array([1,2,3])\n",
        "arr2= np.array([4,5,6])\n",
        "\n",
        "combined = np.concatenate((arr1,arr2))\n",
        "print(combined)"
      ],
      "metadata": {
        "colab": {
          "base_uri": "https://localhost:8080/"
        },
        "id": "KEUtx6dmXJI9",
        "outputId": "788f008b-0be9-4920-89cb-26f65665bffb"
      },
      "execution_count": 10,
      "outputs": [
        {
          "output_type": "stream",
          "name": "stdout",
          "text": [
            "[1 2 3 4 5 6]\n"
          ]
        }
      ]
    },
    {
      "cell_type": "markdown",
      "source": [
        "### Array Compatibility"
      ],
      "metadata": {
        "id": "u_pmdeGQsZ6L"
      }
    },
    {
      "cell_type": "code",
      "source": [
        "a=np.array([1,2,3])\n",
        "b=np.array([4,5,6])\n",
        "c=np.array([7,8,9])\n",
        "\n",
        "print(\"compatibility shapes\",a.shape==b.shape)"
      ],
      "metadata": {
        "colab": {
          "base_uri": "https://localhost:8080/"
        },
        "id": "HYDP6fjmsdsb",
        "outputId": "4bc91848-3235-4192-e8da-369224793598"
      },
      "execution_count": 13,
      "outputs": [
        {
          "output_type": "stream",
          "name": "stdout",
          "text": [
            "compatibility shapes True\n"
          ]
        }
      ]
    },
    {
      "cell_type": "code",
      "source": [
        "original = np.array([[1,2],[3,4]])\n",
        "new_row=np.array([[5,6]])\n",
        "\n",
        "with_new_row=np.vstack((original,new_row))\n",
        "print(with_new_row)\n",
        "\n",
        "\n",
        "new_col=np.array([[1],[3]])\n",
        "with_new_col=np.hstack((original,new_col))\n",
        "print(with_new_col)"
      ],
      "metadata": {
        "colab": {
          "base_uri": "https://localhost:8080/"
        },
        "id": "NHip-_ZB3JRB",
        "outputId": "d95beabb-21a0-42d4-f016-b94ce002984c"
      },
      "execution_count": 16,
      "outputs": [
        {
          "output_type": "stream",
          "name": "stdout",
          "text": [
            "[[1 2]\n",
            " [3 4]\n",
            " [5 6]]\n",
            "[[1 2 1]\n",
            " [3 4 3]]\n"
          ]
        }
      ]
    },
    {
      "cell_type": "code",
      "source": [
        "arr=np.array([1,2,3,4,5,6])\n",
        "deleted = np.delete(arr,2)\n",
        "print(deleted)"
      ],
      "metadata": {
        "colab": {
          "base_uri": "https://localhost:8080/"
        },
        "id": "njMOgflfFkh_",
        "outputId": "7ad398bb-2662-44d0-fde5-ed370d804d54"
      },
      "execution_count": 17,
      "outputs": [
        {
          "output_type": "stream",
          "name": "stdout",
          "text": [
            "[1 2 4 5 6]\n"
          ]
        }
      ]
    }
  ],
  "metadata": {
    "kernelspec": {
      "display_name": "Python 3",
      "language": "python",
      "name": "python3"
    },
    "language_info": {
      "codemirror_mode": {
        "name": "ipython",
        "version": 3
      },
      "file_extension": ".py",
      "mimetype": "text/x-python",
      "name": "python",
      "nbconvert_exporter": "python",
      "pygments_lexer": "ipython3",
      "version": "3.12.6"
    },
    "colab": {
      "provenance": [],
      "toc_visible": true
    }
  },
  "nbformat": 4,
  "nbformat_minor": 0
}