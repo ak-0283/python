{
  "cells": [
    {
      "cell_type": "code",
      "execution_count": 19,
      "metadata": {
        "id": "xVSZuV55ZiQy"
      },
      "outputs": [],
      "source": [
        "import numpy as np\n",
        "import matplotlib.pyplot as plt"
      ]
    },
    {
      "cell_type": "code",
      "execution_count": 20,
      "metadata": {
        "id": "j8X1ETA1ZiQ1"
      },
      "outputs": [],
      "source": [
        "array1=np.array([[1,2,3],[4,5,6]])\n",
        "array2=np.random.rand(3,3)\n",
        "array3=np.zeros((4,4))"
      ]
    },
    {
      "cell_type": "code",
      "execution_count": 21,
      "metadata": {
        "id": "hfOTIMP6aZBd"
      },
      "outputs": [],
      "source": [
        "np.save('array1.npy',array1)\n",
        "np.save('array2.npy',array2)\n",
        "np.save('array3.npy',array3)"
      ]
    },
    {
      "cell_type": "code",
      "execution_count": 22,
      "metadata": {
        "colab": {
          "base_uri": "https://localhost:8080/"
        },
        "id": "6-jsCANka2A3",
        "outputId": "213a6e6d-7bb2-4d7d-ce03-3c31a66b0b5b"
      },
      "outputs": [
        {
          "name": "stdout",
          "output_type": "stream",
          "text": [
            "[[1 2 3]\n",
            " [4 5 6]]\n"
          ]
        }
      ],
      "source": [
        "loaded_array1=np.load('array1.npy')\n",
        "print(loaded_array1)"
      ]
    },
    {
      "cell_type": "code",
      "execution_count": 2,
      "metadata": {
        "colab": {
          "base_uri": "https://localhost:8080/"
        },
        "id": "f2VRctPyf22R",
        "outputId": "10e2150a-bea3-4d81-fb96-c149b12203df"
      },
      "outputs": [
        {
          "name": "stdout",
          "output_type": "stream",
          "text": [
            "File not found\n"
          ]
        }
      ],
      "source": [
        "try:\n",
        "\n",
        "  logo = np.load('numpy-logo.npy')\n",
        "\n",
        "  # Display\n",
        "  plt.figure(figsize=(10,5))\n",
        "  plt.subplot(121)\n",
        "  plt.imshow(logo)\n",
        "  plt.title('Numpy Logo')\n",
        "  plt.grid(False)\n",
        "\n",
        "  dark_logo = 1-logo\n",
        "\n",
        "  plt.subplot(122)\n",
        "  plt.imshow(dark_logo)\n",
        "  plt.title('Numpy Dark Logo')\n",
        "  plt.grid(False)\n",
        "\n",
        "except FileNotFoundError:\n",
        "  print(\"File not found\")"
      ]
    }
  ],
  "metadata": {
    "colab": {
      "provenance": [],
      "toc_visible": true
    },
    "kernelspec": {
      "display_name": "Python 3",
      "language": "python",
      "name": "python3"
    },
    "language_info": {
      "codemirror_mode": {
        "name": "ipython",
        "version": 3
      },
      "file_extension": ".py",
      "mimetype": "text/x-python",
      "name": "python",
      "nbconvert_exporter": "python",
      "pygments_lexer": "ipython3",
      "version": "3.12.6"
    }
  },
  "nbformat": 4,
  "nbformat_minor": 0
}
